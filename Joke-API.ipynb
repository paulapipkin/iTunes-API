{
 "cells": [
  {
   "cell_type": "code",
   "execution_count": null,
   "id": "d59e45f8",
   "metadata": {},
   "outputs": [],
   "source": [
    "# from https://v2.jokeapi.dev/"
   ]
  },
  {
   "cell_type": "code",
   "execution_count": 9,
   "id": "88b89b1a",
   "metadata": {},
   "outputs": [],
   "source": [
    "import pandas as pd\n",
    "import json\n",
    "import requests\n"
   ]
  },
  {
   "cell_type": "code",
   "execution_count": 23,
   "id": "22f4dc97",
   "metadata": {},
   "outputs": [],
   "source": [
    "base_site = 'https://official-joke-api.appspot.com/random_ten'\n",
    "r = requests.get(base_site)\n",
    "joke = r.json()\n",
    "    \n"
   ]
  },
  {
   "cell_type": "code",
   "execution_count": 24,
   "id": "20511af9",
   "metadata": {},
   "outputs": [
    {
     "name": "stdout",
     "output_type": "stream",
     "text": [
      "[\n",
      "    {\n",
      "        \"id\": 327,\n",
      "        \"type\": \"general\",\n",
      "        \"setup\": \"Why did Sweden start painting barcodes on the sides of their battleships?\",\n",
      "        \"punchline\": \"So they could Scandinavian.\"\n",
      "    },\n",
      "    {\n",
      "        \"id\": 18,\n",
      "        \"type\": \"programming\",\n",
      "        \"setup\": \"Why did the programmer quit his job?\",\n",
      "        \"punchline\": \"Because he didn't get arrays.\"\n",
      "    },\n",
      "    {\n",
      "        \"id\": 123,\n",
      "        \"type\": \"general\",\n",
      "        \"setup\": \"How do you find Will Smith in the snow?\",\n",
      "        \"punchline\": \" Look for fresh prints.\"\n",
      "    },\n",
      "    {\n",
      "        \"id\": 330,\n",
      "        \"type\": \"general\",\n",
      "        \"setup\": \"Why did the belt go to prison?\",\n",
      "        \"punchline\": \"He held up a pair of pants!\"\n",
      "    },\n",
      "    {\n",
      "        \"id\": 17,\n",
      "        \"type\": \"programming\",\n",
      "        \"setup\": \"Where do programmers like to hangout?\",\n",
      "        \"punchline\": \"The Foo Bar.\"\n",
      "    },\n",
      "    {\n",
      "        \"id\": 30,\n",
      "        \"type\": \"general\",\n",
      "        \"setup\": \"What did the duck say when he bought lipstick?\",\n",
      "        \"punchline\": \"Put it on my bill\"\n",
      "    },\n",
      "    {\n",
      "        \"id\": 168,\n",
      "        \"type\": \"general\",\n",
      "        \"setup\": \"What did the 0 say to the 8?\",\n",
      "        \"punchline\": \"Nice belt.\"\n",
      "    },\n",
      "    {\n",
      "        \"id\": 12,\n",
      "        \"type\": \"knock-knock\",\n",
      "        \"setup\": \"Knock knock. \\n Who's there? \\n A broken pencil. \\n A broken pencil who?\",\n",
      "        \"punchline\": \"Never mind. It's pointless.\"\n",
      "    },\n",
      "    {\n",
      "        \"id\": 191,\n",
      "        \"type\": \"general\",\n",
      "        \"setup\": \"Why don't you find hippopotamuses hiding in trees?\",\n",
      "        \"punchline\": \"They're really good at it.\"\n",
      "    },\n",
      "    {\n",
      "        \"id\": 112,\n",
      "        \"type\": \"general\",\n",
      "        \"setup\": \"Have you heard of the band 1023MB?\",\n",
      "        \"punchline\": \"They haven't got a gig yet.\"\n",
      "    }\n",
      "]\n"
     ]
    }
   ],
   "source": [
    "joke = r.json()\n",
    "print(json.dumps(joke, indent=4))"
   ]
  },
  {
   "cell_type": "code",
   "execution_count": null,
   "id": "e3d312bf",
   "metadata": {},
   "outputs": [],
   "source": []
  }
 ],
 "metadata": {
  "kernelspec": {
   "display_name": "Python (dojo-env)",
   "language": "python",
   "name": "dojo-env"
  },
  "language_info": {
   "codemirror_mode": {
    "name": "ipython",
    "version": 3
   },
   "file_extension": ".py",
   "mimetype": "text/x-python",
   "name": "python",
   "nbconvert_exporter": "python",
   "pygments_lexer": "ipython3",
   "version": "3.8.13"
  },
  "toc": {
   "base_numbering": 1,
   "nav_menu": {},
   "number_sections": false,
   "sideBar": true,
   "skip_h1_title": false,
   "title_cell": "Table of Contents",
   "title_sidebar": "Contents",
   "toc_cell": false,
   "toc_position": {},
   "toc_section_display": true,
   "toc_window_display": false
  }
 },
 "nbformat": 4,
 "nbformat_minor": 5
}
